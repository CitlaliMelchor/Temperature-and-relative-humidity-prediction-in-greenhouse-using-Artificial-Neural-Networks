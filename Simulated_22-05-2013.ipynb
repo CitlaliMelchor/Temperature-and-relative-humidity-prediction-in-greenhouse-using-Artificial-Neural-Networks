{
 "cells": [
  {
   "cell_type": "markdown",
   "metadata": {},
   "source": [
    "## Import the libraries"
   ]
  },
  {
   "cell_type": "code",
   "execution_count": 1,
   "metadata": {
    "collapsed": false
   },
   "outputs": [
    {
     "name": "stdout",
     "output_type": "stream",
     "text": [
      "Populating the interactive namespace from numpy and matplotlib\n"
     ]
    }
   ],
   "source": [
    "import numpy as np\n",
    "import pandas as pd\n",
    "import matplotlib.pyplot as plt\n",
    "%pylab inline --no-import-all"
   ]
  },
  {
   "cell_type": "markdown",
   "metadata": {},
   "source": [
    "## Import files"
   ]
  },
  {
   "cell_type": "code",
   "execution_count": 2,
   "metadata": {
    "collapsed": true
   },
   "outputs": [],
   "source": [
    "def getcsv( filename ):\n",
    "    temp = np.fromfile( filename, sep=';' )\n",
    "    numcols = len( temp )\n",
    "    del( temp )\n",
    "    df = pd.read_csv( filename, sep=';', names = [ x+1 for x in range(numcols)] )\n",
    "    return df"
   ]
  },
  {
   "cell_type": "code",
   "execution_count": 3,
   "metadata": {
    "collapsed": true
   },
   "outputs": [],
   "source": [
    "def getcsv2( filename ):\n",
    "    temp = np.fromfile( filename, sep=',' )\n",
    "    numcols = len( temp )\n",
    "    del( temp )\n",
    "    df = pd.read_csv( filename, sep=',', names = [ x+1 for x in range(numcols)] )\n",
    "    return df"
   ]
  },
  {
   "cell_type": "code",
   "execution_count": 4,
   "metadata": {
    "collapsed": true
   },
   "outputs": [],
   "source": [
    "testcol = getcsv( 'testcol.csv' ) #Datos del invernadero colector para prueba\n",
    "testref = getcsv( 'testref.csv' ) #Datos del invernadero referencia para prueba\n",
    "testtime = getcsv( 'testtime.csv' )"
   ]
  },
  {
   "cell_type": "code",
   "execution_count": 5,
   "metadata": {
    "collapsed": true
   },
   "outputs": [],
   "source": [
    "cols = [ \\\n",
    "    'Record(1)', 'Temperature(1)', 'RelHum(1)', \\\n",
    "    'Ventilation(1)', 'Screening(1)', 'Heating(1)', 'Cooling(1)', \\\n",
    "    'LAI(1)', 'OutTemp(1)', 'OutRelHum(1)', 'OutRad(1)', 'OutWindVel(1)', \\\n",
    "    'HourAngle(1)', 'Declination(1)', 'Elevation(1)', 'RadTheor(1)', \\\n",
    "    'Record(0)', 'Temperature(0)', 'RelHum(0)', \\\n",
    "    'Ventilation(0)', 'Screening(0)', 'Heating(0)', 'Cooling(0)', \\\n",
    "    'LAI(0)', 'OutTemp(0)', 'OutRelHum(0)', 'OutRad(0)', 'OutWindVel(0)', \\\n",
    "    'HourAngle(0)', 'Declination(0)', 'Elevation(0)', 'RadTheor(0)', \\\n",
    "    'Record(-1)', 'Temperature(-1)', 'RelHum(-1)', \\\n",
    "    'Ventilation(-1)', 'Screening(-1)', 'Heating(-1)', 'Cooling(-1)', \\\n",
    "    'LAI(-1)', 'OutTemp(-1)', 'OutRelHum(-1)', 'OutRad(-1)', 'OutWindVel(-1)', \\\n",
    "    'HourAngle(-1)', 'Declination(-1)', 'Elevation(-1)', 'RadTheor(-1)', \\\n",
    "    'Record(-2)', 'Temperature(-2)', 'RelHum(-2)', \\\n",
    "    'Ventilation(-2)', 'Screening(-2)', 'Heating(-2)', 'Cooling(-2)', \\\n",
    "    'LAI(-2)', 'OutTemp(-2)', 'OutRelHum(-2)', 'OutRad(-2)', 'OutWindVel(-2)', \\\n",
    "    'HourAngle(-2)', 'Declination(-2)', 'Elevation(-2)', 'RadTheor(-2)', \\\n",
    "    'Record(-3)', 'Temperature(-3)', 'RelHum(-3)', \\\n",
    "    'Ventilation(-3)', 'Screening(-3)', 'Heating(-3)', 'Cooling(-3)', \\\n",
    "    'LAI(-3)', 'OutTemp(-3)', 'OutRelHum(-3)', 'OutRad(-3)', 'OutWindVel(-3)', \\\n",
    "    'HourAngle(-3)', 'Declination(-3)', 'Elevation(-3)', 'RadTheor(-3)', \\\n",
    "    ]\n",
    "\n",
    "testcol.columns = cols\n",
    "testref.columns = cols\n",
    "\n",
    "cols2 = [ 'Record', 'Day', 'Month', 'Year', 'Hour', 'Minutes', 'Seconds', 'CalWeek', 'Weekday' ]\n",
    "testtime.columns = cols2"
   ]
  },
  {
   "cell_type": "code",
   "execution_count": 6,
   "metadata": {
    "collapsed": false
   },
   "outputs": [
    {
     "data": {
      "text/html": [
       "<div>\n",
       "<table border=\"1\" class=\"dataframe\">\n",
       "  <thead>\n",
       "    <tr style=\"text-align: right;\">\n",
       "      <th></th>\n",
       "      <th>Record(1)</th>\n",
       "      <th>Temperature(1)</th>\n",
       "      <th>RelHum(1)</th>\n",
       "      <th>Ventilation(1)</th>\n",
       "      <th>Screening(1)</th>\n",
       "      <th>Heating(1)</th>\n",
       "      <th>Cooling(1)</th>\n",
       "      <th>LAI(1)</th>\n",
       "      <th>OutTemp(1)</th>\n",
       "      <th>OutRelHum(1)</th>\n",
       "      <th>...</th>\n",
       "      <th>Cooling(-3)</th>\n",
       "      <th>LAI(-3)</th>\n",
       "      <th>OutTemp(-3)</th>\n",
       "      <th>OutRelHum(-3)</th>\n",
       "      <th>OutRad(-3)</th>\n",
       "      <th>OutWindVel(-3)</th>\n",
       "      <th>HourAngle(-3)</th>\n",
       "      <th>Declination(-3)</th>\n",
       "      <th>Elevation(-3)</th>\n",
       "      <th>RadTheor(-3)</th>\n",
       "    </tr>\n",
       "  </thead>\n",
       "  <tbody>\n",
       "    <tr>\n",
       "      <th>0</th>\n",
       "      <td>330914</td>\n",
       "      <td>18.662860</td>\n",
       "      <td>40.455032</td>\n",
       "      <td>0</td>\n",
       "      <td>100</td>\n",
       "      <td>44.83</td>\n",
       "      <td>0.00</td>\n",
       "      <td>0.24265</td>\n",
       "      <td>-2.824335</td>\n",
       "      <td>72.264643</td>\n",
       "      <td>...</td>\n",
       "      <td>0.38</td>\n",
       "      <td>0.21708</td>\n",
       "      <td>-2.742805</td>\n",
       "      <td>71.850516</td>\n",
       "      <td>0.038769</td>\n",
       "      <td>2.67</td>\n",
       "      <td>0.064605</td>\n",
       "      <td>-10.146</td>\n",
       "      <td>-47.579</td>\n",
       "      <td>-1024.1</td>\n",
       "    </tr>\n",
       "    <tr>\n",
       "      <th>1</th>\n",
       "      <td>330915</td>\n",
       "      <td>18.730670</td>\n",
       "      <td>40.218516</td>\n",
       "      <td>0</td>\n",
       "      <td>100</td>\n",
       "      <td>10.04</td>\n",
       "      <td>0.00</td>\n",
       "      <td>0.24265</td>\n",
       "      <td>-2.825964</td>\n",
       "      <td>72.326787</td>\n",
       "      <td>...</td>\n",
       "      <td>0.38</td>\n",
       "      <td>0.21708</td>\n",
       "      <td>-2.775195</td>\n",
       "      <td>72.013964</td>\n",
       "      <td>0.145140</td>\n",
       "      <td>2.61</td>\n",
       "      <td>0.041440</td>\n",
       "      <td>-10.145</td>\n",
       "      <td>-47.641</td>\n",
       "      <td>-1025.1</td>\n",
       "    </tr>\n",
       "    <tr>\n",
       "      <th>2</th>\n",
       "      <td>330916</td>\n",
       "      <td>18.778036</td>\n",
       "      <td>40.037376</td>\n",
       "      <td>0</td>\n",
       "      <td>100</td>\n",
       "      <td>41.94</td>\n",
       "      <td>0.25</td>\n",
       "      <td>0.24265</td>\n",
       "      <td>-2.821439</td>\n",
       "      <td>72.401674</td>\n",
       "      <td>...</td>\n",
       "      <td>0.38</td>\n",
       "      <td>0.21708</td>\n",
       "      <td>-2.799846</td>\n",
       "      <td>72.125973</td>\n",
       "      <td>0.241195</td>\n",
       "      <td>2.61</td>\n",
       "      <td>0.020579</td>\n",
       "      <td>-10.143</td>\n",
       "      <td>-47.672</td>\n",
       "      <td>-1025.6</td>\n",
       "    </tr>\n",
       "    <tr>\n",
       "      <th>3</th>\n",
       "      <td>330917</td>\n",
       "      <td>18.790733</td>\n",
       "      <td>39.958923</td>\n",
       "      <td>0</td>\n",
       "      <td>100</td>\n",
       "      <td>35.91</td>\n",
       "      <td>0.25</td>\n",
       "      <td>0.24265</td>\n",
       "      <td>-2.813249</td>\n",
       "      <td>72.504724</td>\n",
       "      <td>...</td>\n",
       "      <td>0.00</td>\n",
       "      <td>0.24265</td>\n",
       "      <td>-2.815900</td>\n",
       "      <td>72.197665</td>\n",
       "      <td>0.345339</td>\n",
       "      <td>2.31</td>\n",
       "      <td>-0.000436</td>\n",
       "      <td>-10.142</td>\n",
       "      <td>-47.682</td>\n",
       "      <td>-1025.8</td>\n",
       "    </tr>\n",
       "    <tr>\n",
       "      <th>4</th>\n",
       "      <td>330918</td>\n",
       "      <td>18.788597</td>\n",
       "      <td>39.926063</td>\n",
       "      <td>0</td>\n",
       "      <td>100</td>\n",
       "      <td>4.98</td>\n",
       "      <td>0.00</td>\n",
       "      <td>0.24265</td>\n",
       "      <td>-2.802244</td>\n",
       "      <td>72.662824</td>\n",
       "      <td>...</td>\n",
       "      <td>0.00</td>\n",
       "      <td>0.24265</td>\n",
       "      <td>-2.824335</td>\n",
       "      <td>72.264643</td>\n",
       "      <td>0.398443</td>\n",
       "      <td>2.43</td>\n",
       "      <td>-0.023632</td>\n",
       "      <td>-10.141</td>\n",
       "      <td>-47.666</td>\n",
       "      <td>-1025.5</td>\n",
       "    </tr>\n",
       "  </tbody>\n",
       "</table>\n",
       "<p>5 rows × 80 columns</p>\n",
       "</div>"
      ],
      "text/plain": [
       "   Record(1)  Temperature(1)  RelHum(1)  Ventilation(1)  Screening(1)  \\\n",
       "0     330914       18.662860  40.455032               0           100   \n",
       "1     330915       18.730670  40.218516               0           100   \n",
       "2     330916       18.778036  40.037376               0           100   \n",
       "3     330917       18.790733  39.958923               0           100   \n",
       "4     330918       18.788597  39.926063               0           100   \n",
       "\n",
       "   Heating(1)  Cooling(1)   LAI(1)  OutTemp(1)  OutRelHum(1)      ...       \\\n",
       "0       44.83        0.00  0.24265   -2.824335     72.264643      ...        \n",
       "1       10.04        0.00  0.24265   -2.825964     72.326787      ...        \n",
       "2       41.94        0.25  0.24265   -2.821439     72.401674      ...        \n",
       "3       35.91        0.25  0.24265   -2.813249     72.504724      ...        \n",
       "4        4.98        0.00  0.24265   -2.802244     72.662824      ...        \n",
       "\n",
       "   Cooling(-3)  LAI(-3)  OutTemp(-3)  OutRelHum(-3)  OutRad(-3)  \\\n",
       "0         0.38  0.21708    -2.742805      71.850516    0.038769   \n",
       "1         0.38  0.21708    -2.775195      72.013964    0.145140   \n",
       "2         0.38  0.21708    -2.799846      72.125973    0.241195   \n",
       "3         0.00  0.24265    -2.815900      72.197665    0.345339   \n",
       "4         0.00  0.24265    -2.824335      72.264643    0.398443   \n",
       "\n",
       "   OutWindVel(-3)  HourAngle(-3)  Declination(-3)  Elevation(-3)  RadTheor(-3)  \n",
       "0            2.67       0.064605          -10.146        -47.579       -1024.1  \n",
       "1            2.61       0.041440          -10.145        -47.641       -1025.1  \n",
       "2            2.61       0.020579          -10.143        -47.672       -1025.6  \n",
       "3            2.31      -0.000436          -10.142        -47.682       -1025.8  \n",
       "4            2.43      -0.023632          -10.141        -47.666       -1025.5  \n",
       "\n",
       "[5 rows x 80 columns]"
      ]
     },
     "execution_count": 6,
     "metadata": {},
     "output_type": "execute_result"
    }
   ],
   "source": [
    "testcol.head()"
   ]
  },
  {
   "cell_type": "code",
   "execution_count": 7,
   "metadata": {
    "collapsed": false
   },
   "outputs": [
    {
     "data": {
      "text/html": [
       "<div>\n",
       "<table border=\"1\" class=\"dataframe\">\n",
       "  <thead>\n",
       "    <tr style=\"text-align: right;\">\n",
       "      <th></th>\n",
       "      <th>Record</th>\n",
       "      <th>Day</th>\n",
       "      <th>Month</th>\n",
       "      <th>Year</th>\n",
       "      <th>Hour</th>\n",
       "      <th>Minutes</th>\n",
       "      <th>Seconds</th>\n",
       "      <th>CalWeek</th>\n",
       "      <th>Weekday</th>\n",
       "    </tr>\n",
       "  </thead>\n",
       "  <tbody>\n",
       "    <tr>\n",
       "      <th>0</th>\n",
       "      <td>330913</td>\n",
       "      <td>23</td>\n",
       "      <td>2</td>\n",
       "      <td>2013</td>\n",
       "      <td>0</td>\n",
       "      <td>0</td>\n",
       "      <td>6</td>\n",
       "      <td>8</td>\n",
       "      <td>7</td>\n",
       "    </tr>\n",
       "    <tr>\n",
       "      <th>1</th>\n",
       "      <td>330914</td>\n",
       "      <td>23</td>\n",
       "      <td>2</td>\n",
       "      <td>2013</td>\n",
       "      <td>0</td>\n",
       "      <td>5</td>\n",
       "      <td>25</td>\n",
       "      <td>8</td>\n",
       "      <td>7</td>\n",
       "    </tr>\n",
       "    <tr>\n",
       "      <th>2</th>\n",
       "      <td>330915</td>\n",
       "      <td>23</td>\n",
       "      <td>2</td>\n",
       "      <td>2013</td>\n",
       "      <td>0</td>\n",
       "      <td>10</td>\n",
       "      <td>11</td>\n",
       "      <td>8</td>\n",
       "      <td>7</td>\n",
       "    </tr>\n",
       "    <tr>\n",
       "      <th>3</th>\n",
       "      <td>330916</td>\n",
       "      <td>23</td>\n",
       "      <td>2</td>\n",
       "      <td>2013</td>\n",
       "      <td>0</td>\n",
       "      <td>15</td>\n",
       "      <td>30</td>\n",
       "      <td>8</td>\n",
       "      <td>7</td>\n",
       "    </tr>\n",
       "    <tr>\n",
       "      <th>4</th>\n",
       "      <td>330917</td>\n",
       "      <td>23</td>\n",
       "      <td>2</td>\n",
       "      <td>2013</td>\n",
       "      <td>0</td>\n",
       "      <td>20</td>\n",
       "      <td>17</td>\n",
       "      <td>8</td>\n",
       "      <td>7</td>\n",
       "    </tr>\n",
       "  </tbody>\n",
       "</table>\n",
       "</div>"
      ],
      "text/plain": [
       "   Record  Day  Month  Year  Hour  Minutes  Seconds  CalWeek  Weekday\n",
       "0  330913   23      2  2013     0        0        6        8        7\n",
       "1  330914   23      2  2013     0        5       25        8        7\n",
       "2  330915   23      2  2013     0       10       11        8        7\n",
       "3  330916   23      2  2013     0       15       30        8        7\n",
       "4  330917   23      2  2013     0       20       17        8        7"
      ]
     },
     "execution_count": 7,
     "metadata": {},
     "output_type": "execute_result"
    }
   ],
   "source": [
    "testtime.head()"
   ]
  },
  {
   "cell_type": "markdown",
   "metadata": {},
   "source": [
    "## Convert to pandas"
   ]
  },
  {
   "cell_type": "code",
   "execution_count": 8,
   "metadata": {
    "collapsed": true
   },
   "outputs": [],
   "source": [
    "from datetime import datetime"
   ]
  },
  {
   "cell_type": "code",
   "execution_count": 9,
   "metadata": {
    "collapsed": true
   },
   "outputs": [],
   "source": [
    "testtime['DateTime'] = testtime[ ['Year','Month','Day','Hour','Minutes','Seconds'] ].apply( lambda s: datetime(*s), axis=1 )"
   ]
  },
  {
   "cell_type": "code",
   "execution_count": 10,
   "metadata": {
    "collapsed": false
   },
   "outputs": [
    {
     "data": {
      "text/html": [
       "<div>\n",
       "<table border=\"1\" class=\"dataframe\">\n",
       "  <thead>\n",
       "    <tr style=\"text-align: right;\">\n",
       "      <th></th>\n",
       "      <th>Record</th>\n",
       "      <th>Day</th>\n",
       "      <th>Month</th>\n",
       "      <th>Year</th>\n",
       "      <th>Hour</th>\n",
       "      <th>Minutes</th>\n",
       "      <th>Seconds</th>\n",
       "      <th>CalWeek</th>\n",
       "      <th>Weekday</th>\n",
       "      <th>DateTime</th>\n",
       "    </tr>\n",
       "    <tr>\n",
       "      <th>DateTime</th>\n",
       "      <th></th>\n",
       "      <th></th>\n",
       "      <th></th>\n",
       "      <th></th>\n",
       "      <th></th>\n",
       "      <th></th>\n",
       "      <th></th>\n",
       "      <th></th>\n",
       "      <th></th>\n",
       "      <th></th>\n",
       "    </tr>\n",
       "  </thead>\n",
       "  <tbody>\n",
       "    <tr>\n",
       "      <th>2013-02-23 00:00:06</th>\n",
       "      <td>330913</td>\n",
       "      <td>23</td>\n",
       "      <td>2</td>\n",
       "      <td>2013</td>\n",
       "      <td>0</td>\n",
       "      <td>0</td>\n",
       "      <td>6</td>\n",
       "      <td>8</td>\n",
       "      <td>7</td>\n",
       "      <td>2013-02-23 00:00:06</td>\n",
       "    </tr>\n",
       "    <tr>\n",
       "      <th>2013-02-23 00:05:25</th>\n",
       "      <td>330914</td>\n",
       "      <td>23</td>\n",
       "      <td>2</td>\n",
       "      <td>2013</td>\n",
       "      <td>0</td>\n",
       "      <td>5</td>\n",
       "      <td>25</td>\n",
       "      <td>8</td>\n",
       "      <td>7</td>\n",
       "      <td>2013-02-23 00:05:25</td>\n",
       "    </tr>\n",
       "    <tr>\n",
       "      <th>2013-02-23 00:10:11</th>\n",
       "      <td>330915</td>\n",
       "      <td>23</td>\n",
       "      <td>2</td>\n",
       "      <td>2013</td>\n",
       "      <td>0</td>\n",
       "      <td>10</td>\n",
       "      <td>11</td>\n",
       "      <td>8</td>\n",
       "      <td>7</td>\n",
       "      <td>2013-02-23 00:10:11</td>\n",
       "    </tr>\n",
       "    <tr>\n",
       "      <th>2013-02-23 00:15:30</th>\n",
       "      <td>330916</td>\n",
       "      <td>23</td>\n",
       "      <td>2</td>\n",
       "      <td>2013</td>\n",
       "      <td>0</td>\n",
       "      <td>15</td>\n",
       "      <td>30</td>\n",
       "      <td>8</td>\n",
       "      <td>7</td>\n",
       "      <td>2013-02-23 00:15:30</td>\n",
       "    </tr>\n",
       "    <tr>\n",
       "      <th>2013-02-23 00:20:17</th>\n",
       "      <td>330917</td>\n",
       "      <td>23</td>\n",
       "      <td>2</td>\n",
       "      <td>2013</td>\n",
       "      <td>0</td>\n",
       "      <td>20</td>\n",
       "      <td>17</td>\n",
       "      <td>8</td>\n",
       "      <td>7</td>\n",
       "      <td>2013-02-23 00:20:17</td>\n",
       "    </tr>\n",
       "  </tbody>\n",
       "</table>\n",
       "</div>"
      ],
      "text/plain": [
       "                     Record  Day  Month  Year  Hour  Minutes  Seconds  \\\n",
       "DateTime                                                                \n",
       "2013-02-23 00:00:06  330913   23      2  2013     0        0        6   \n",
       "2013-02-23 00:05:25  330914   23      2  2013     0        5       25   \n",
       "2013-02-23 00:10:11  330915   23      2  2013     0       10       11   \n",
       "2013-02-23 00:15:30  330916   23      2  2013     0       15       30   \n",
       "2013-02-23 00:20:17  330917   23      2  2013     0       20       17   \n",
       "\n",
       "                     CalWeek  Weekday            DateTime  \n",
       "DateTime                                                   \n",
       "2013-02-23 00:00:06        8        7 2013-02-23 00:00:06  \n",
       "2013-02-23 00:05:25        8        7 2013-02-23 00:05:25  \n",
       "2013-02-23 00:10:11        8        7 2013-02-23 00:10:11  \n",
       "2013-02-23 00:15:30        8        7 2013-02-23 00:15:30  \n",
       "2013-02-23 00:20:17        8        7 2013-02-23 00:20:17  "
      ]
     },
     "execution_count": 10,
     "metadata": {},
     "output_type": "execute_result"
    }
   ],
   "source": [
    "# Needed to be able to make slides (for example: for graphs)\n",
    "testtime.index = testtime['DateTime']\n",
    "testtime.head()"
   ]
  },
  {
   "cell_type": "code",
   "execution_count": 11,
   "metadata": {
    "collapsed": false
   },
   "outputs": [
    {
     "data": {
      "text/html": [
       "<div>\n",
       "<table border=\"1\" class=\"dataframe\">\n",
       "  <thead>\n",
       "    <tr style=\"text-align: right;\">\n",
       "      <th></th>\n",
       "      <th>Record</th>\n",
       "      <th>Day</th>\n",
       "      <th>Month</th>\n",
       "      <th>Year</th>\n",
       "      <th>Hour</th>\n",
       "      <th>Minutes</th>\n",
       "      <th>Seconds</th>\n",
       "      <th>CalWeek</th>\n",
       "      <th>Weekday</th>\n",
       "      <th>DateTime</th>\n",
       "      <th>...</th>\n",
       "      <th>Cooling(-3)</th>\n",
       "      <th>LAI(-3)</th>\n",
       "      <th>OutTemp(-3)</th>\n",
       "      <th>OutRelHum(-3)</th>\n",
       "      <th>OutRad(-3)</th>\n",
       "      <th>OutWindVel(-3)</th>\n",
       "      <th>HourAngle(-3)</th>\n",
       "      <th>Declination(-3)</th>\n",
       "      <th>Elevation(-3)</th>\n",
       "      <th>RadTheor(-3)</th>\n",
       "    </tr>\n",
       "  </thead>\n",
       "  <tbody>\n",
       "    <tr>\n",
       "      <th>0</th>\n",
       "      <td>330913</td>\n",
       "      <td>23</td>\n",
       "      <td>2</td>\n",
       "      <td>2013</td>\n",
       "      <td>0</td>\n",
       "      <td>0</td>\n",
       "      <td>6</td>\n",
       "      <td>8</td>\n",
       "      <td>7</td>\n",
       "      <td>2013-02-23 00:00:06</td>\n",
       "      <td>...</td>\n",
       "      <td>0.38</td>\n",
       "      <td>0.21708</td>\n",
       "      <td>-2.742805</td>\n",
       "      <td>71.850516</td>\n",
       "      <td>0.038769</td>\n",
       "      <td>2.67</td>\n",
       "      <td>0.064605</td>\n",
       "      <td>-10.146</td>\n",
       "      <td>-47.579</td>\n",
       "      <td>-1024.1</td>\n",
       "    </tr>\n",
       "    <tr>\n",
       "      <th>1</th>\n",
       "      <td>330914</td>\n",
       "      <td>23</td>\n",
       "      <td>2</td>\n",
       "      <td>2013</td>\n",
       "      <td>0</td>\n",
       "      <td>5</td>\n",
       "      <td>25</td>\n",
       "      <td>8</td>\n",
       "      <td>7</td>\n",
       "      <td>2013-02-23 00:05:25</td>\n",
       "      <td>...</td>\n",
       "      <td>0.38</td>\n",
       "      <td>0.21708</td>\n",
       "      <td>-2.775195</td>\n",
       "      <td>72.013964</td>\n",
       "      <td>0.145140</td>\n",
       "      <td>2.61</td>\n",
       "      <td>0.041440</td>\n",
       "      <td>-10.145</td>\n",
       "      <td>-47.641</td>\n",
       "      <td>-1025.1</td>\n",
       "    </tr>\n",
       "    <tr>\n",
       "      <th>2</th>\n",
       "      <td>330915</td>\n",
       "      <td>23</td>\n",
       "      <td>2</td>\n",
       "      <td>2013</td>\n",
       "      <td>0</td>\n",
       "      <td>10</td>\n",
       "      <td>11</td>\n",
       "      <td>8</td>\n",
       "      <td>7</td>\n",
       "      <td>2013-02-23 00:10:11</td>\n",
       "      <td>...</td>\n",
       "      <td>0.38</td>\n",
       "      <td>0.21708</td>\n",
       "      <td>-2.799846</td>\n",
       "      <td>72.125973</td>\n",
       "      <td>0.241195</td>\n",
       "      <td>2.61</td>\n",
       "      <td>0.020579</td>\n",
       "      <td>-10.143</td>\n",
       "      <td>-47.672</td>\n",
       "      <td>-1025.6</td>\n",
       "    </tr>\n",
       "    <tr>\n",
       "      <th>3</th>\n",
       "      <td>330916</td>\n",
       "      <td>23</td>\n",
       "      <td>2</td>\n",
       "      <td>2013</td>\n",
       "      <td>0</td>\n",
       "      <td>15</td>\n",
       "      <td>30</td>\n",
       "      <td>8</td>\n",
       "      <td>7</td>\n",
       "      <td>2013-02-23 00:15:30</td>\n",
       "      <td>...</td>\n",
       "      <td>0.00</td>\n",
       "      <td>0.24265</td>\n",
       "      <td>-2.815900</td>\n",
       "      <td>72.197665</td>\n",
       "      <td>0.345339</td>\n",
       "      <td>2.31</td>\n",
       "      <td>-0.000436</td>\n",
       "      <td>-10.142</td>\n",
       "      <td>-47.682</td>\n",
       "      <td>-1025.8</td>\n",
       "    </tr>\n",
       "    <tr>\n",
       "      <th>4</th>\n",
       "      <td>330917</td>\n",
       "      <td>23</td>\n",
       "      <td>2</td>\n",
       "      <td>2013</td>\n",
       "      <td>0</td>\n",
       "      <td>20</td>\n",
       "      <td>17</td>\n",
       "      <td>8</td>\n",
       "      <td>7</td>\n",
       "      <td>2013-02-23 00:20:17</td>\n",
       "      <td>...</td>\n",
       "      <td>0.00</td>\n",
       "      <td>0.24265</td>\n",
       "      <td>-2.824335</td>\n",
       "      <td>72.264643</td>\n",
       "      <td>0.398443</td>\n",
       "      <td>2.43</td>\n",
       "      <td>-0.023632</td>\n",
       "      <td>-10.141</td>\n",
       "      <td>-47.666</td>\n",
       "      <td>-1025.5</td>\n",
       "    </tr>\n",
       "  </tbody>\n",
       "</table>\n",
       "<p>5 rows × 90 columns</p>\n",
       "</div>"
      ],
      "text/plain": [
       "   Record  Day  Month  Year  Hour  Minutes  Seconds  CalWeek  Weekday  \\\n",
       "0  330913   23      2  2013     0        0        6        8        7   \n",
       "1  330914   23      2  2013     0        5       25        8        7   \n",
       "2  330915   23      2  2013     0       10       11        8        7   \n",
       "3  330916   23      2  2013     0       15       30        8        7   \n",
       "4  330917   23      2  2013     0       20       17        8        7   \n",
       "\n",
       "             DateTime      ...       Cooling(-3)  LAI(-3)  OutTemp(-3)  \\\n",
       "0 2013-02-23 00:00:06      ...              0.38  0.21708    -2.742805   \n",
       "1 2013-02-23 00:05:25      ...              0.38  0.21708    -2.775195   \n",
       "2 2013-02-23 00:10:11      ...              0.38  0.21708    -2.799846   \n",
       "3 2013-02-23 00:15:30      ...              0.00  0.24265    -2.815900   \n",
       "4 2013-02-23 00:20:17      ...              0.00  0.24265    -2.824335   \n",
       "\n",
       "   OutRelHum(-3)  OutRad(-3)  OutWindVel(-3)  HourAngle(-3)  Declination(-3)  \\\n",
       "0      71.850516    0.038769            2.67       0.064605          -10.146   \n",
       "1      72.013964    0.145140            2.61       0.041440          -10.145   \n",
       "2      72.125973    0.241195            2.61       0.020579          -10.143   \n",
       "3      72.197665    0.345339            2.31      -0.000436          -10.142   \n",
       "4      72.264643    0.398443            2.43      -0.023632          -10.141   \n",
       "\n",
       "   Elevation(-3)  RadTheor(-3)  \n",
       "0        -47.579       -1024.1  \n",
       "1        -47.641       -1025.1  \n",
       "2        -47.672       -1025.6  \n",
       "3        -47.682       -1025.8  \n",
       "4        -47.666       -1025.5  \n",
       "\n",
       "[5 rows x 90 columns]"
      ]
     },
     "execution_count": 11,
     "metadata": {},
     "output_type": "execute_result"
    }
   ],
   "source": [
    "collector = pd.merge( testtime, testcol, on = testtime['Record'] )\n",
    "reference = pd.merge( testtime, testref, on = testtime['Record'] )\n",
    "collector.head()"
   ]
  },
  {
   "cell_type": "markdown",
   "metadata": {},
   "source": [
    "## Select the simulated date"
   ]
  },
  {
   "cell_type": "code",
   "execution_count": 12,
   "metadata": {
    "collapsed": false,
    "scrolled": true
   },
   "outputs": [],
   "source": [
    "testing_days = testtime['DateTime'].dt.date"
   ]
  },
  {
   "cell_type": "code",
   "execution_count": 13,
   "metadata": {
    "collapsed": true
   },
   "outputs": [],
   "source": [
    "collector.index = collector['DateTime']\n",
    "reference.index = reference['DateTime']"
   ]
  },
  {
   "cell_type": "code",
   "execution_count": 14,
   "metadata": {
    "collapsed": true
   },
   "outputs": [],
   "source": [
    "start = '2013-05-22 00:00:00.000'\n",
    "end = '2013-05-22 23:55:08.000'\n",
    "xtime = testtime.DateTime[start:end]"
   ]
  },
  {
   "cell_type": "markdown",
   "metadata": {},
   "source": [
    "### Theorical and measured Radiation"
   ]
  },
  {
   "cell_type": "code",
   "execution_count": 15,
   "metadata": {
    "collapsed": false
   },
   "outputs": [
    {
     "data": {
      "image/png": "[encoded data removed]",
      "text/plain": [
       "<matplotlib.figure.Figure at 0x7f8c62c91080>"
      ]
     },
     "metadata": {},
     "output_type": "display_data"
    }
   ],
   "source": [
    "fig, ax = plt.subplots(1, sharex=True, figsize=(16,4))\n",
    "\n",
    "# This is only to make clear how to index and select ranges:\n",
    "# Note that the external variables have the same valule for both greenhouses\n",
    "r0 = collector['RadTheor(0)'][xtime]\n",
    "rad = collector['OutRad(0)'][xtime]\n",
    "\n",
    "ax.plot( xtime, r0, color='yellow', linewidth=2.0, label='Theoretical Radiation');\n",
    "ax.fill_between( np.array(xtime), y1=rad, y2=0, color='yellow', alpha=0.5, label='Measured Radiation' );\n",
    "ax.set_title('Theoretical and measured radiation: Collector greenhouse');"
   ]
  },
  {
   "cell_type": "code",
   "execution_count": 16,
   "metadata": {
    "collapsed": false,
    "scrolled": true
   },
   "outputs": [
    {
     "data": {
      "image/png": "[encoded data removed]",
      "text/plain": [
       "<matplotlib.figure.Figure at 0x7f8c54eecf60>"
      ]
     },
     "metadata": {},
     "output_type": "display_data"
    }
   ],
   "source": [
    "\n",
    "fig, axarr = plt.subplots(4, sharex=True, figsize=(16,8))\n",
    "\n",
    "# This is only to make clear how to index and select ranges:\n",
    "col_temp = collector['Temperature(0)'][xtime]\n",
    "ref_temp = reference['Temperature(0)'][xtime]\n",
    "\n",
    "col_rh = collector['RelHum(0)'][xtime]\n",
    "ref_rh = reference['RelHum(0)'][xtime]\n",
    "\n",
    "col_vent = collector['Ventilation(0)'][xtime]\n",
    "ref_vent = reference['Ventilation(0)'][xtime]\n",
    "\n",
    "col_screen = collector['Screening(0)'][xtime]\n",
    "ref_screen = reference['Screening(0)'][xtime]\n",
    "\n",
    "\n",
    "axarr[0].plot( xtime, col_temp, color='red', linewidth=2.0, label='Collector');\n",
    "axarr[0].plot( xtime, ref_temp, color='orange', linewidth=2.0, label='Reference');\n",
    "axarr[0].set_title('Air Temperature [°C]');\n",
    "axarr[0].legend();\n",
    "\n",
    "axarr[1].plot( xtime, col_rh, color='blue', linewidth=2.0, label='Collector');\n",
    "axarr[1].plot( xtime, ref_rh, color='cyan', linewidth=2.0, label='Reference');\n",
    "axarr[1].set_title('Relative Humidity [%]');\n",
    "axarr[1].legend();\n",
    "\n",
    "axarr[2].plot( xtime, col_vent, color='magenta', linewidth=2.0, label='Collector');\n",
    "axarr[2].plot( xtime, ref_vent, color='#800080', linewidth=2.0, label='Reference');\n",
    "axarr[2].set_title('Roof Ventilation Opening [%]');\n",
    "axarr[2].legend();\n",
    "axarr[2].set_ylim([-20,40]);\n",
    "\n",
    "axarr[3].plot( xtime, col_screen, color='#254117', linewidth=3.0, label='Collector');\n",
    "axarr[3].plot( xtime, ref_screen, color='#98FF98', linewidth=2.0, label='Reference');\n",
    "axarr[3].set_title('Thermal Screen Closure [%]');\n",
    "axarr[3].legend();\n",
    "axarr[3].set_ylim([-20,100]);"
   ]
  },
  {
   "cell_type": "code",
   "execution_count": null,
   "metadata": {
    "collapsed": false,
    "scrolled": true
   },
   "outputs": [],
   "source": []
  },
  {
   "cell_type": "markdown",
   "metadata": {},
   "source": [
    "## Simulation"
   ]
  },
  {
   "cell_type": "markdown",
   "metadata": {},
   "source": [
    "### Recreating the networks"
   ]
  },
  {
   "cell_type": "code",
   "execution_count": 17,
   "metadata": {
    "collapsed": true
   },
   "outputs": [],
   "source": [
    "import pybrain\n",
    "from pybrain.structure import RecurrentNetwork, FeedForwardNetwork, LinearLayer, SigmoidLayer, FullConnection\n",
    "from IPython.display import Image\n",
    "from pybrain.structure import connections"
   ]
  },
  {
   "cell_type": "code",
   "execution_count": 18,
   "metadata": {
    "collapsed": true
   },
   "outputs": [],
   "source": [
    "netF = FeedForwardNetwork()\n",
    "netR = RecurrentNetwork()\n",
    "netR2 = RecurrentNetwork()\n",
    "    \n",
    "    \n",
    "inpF = LinearLayer(24)\n",
    "hidF = SigmoidLayer(24)\n",
    "outF = LinearLayer(2)\n",
    "\n",
    "inpR = LinearLayer(8, name='in')\n",
    "hidR = SigmoidLayer(8, name='hidden')\n",
    "outR = LinearLayer(2, name='out')\n",
    "\n",
    "inpR2 = LinearLayer(8, name='in2')\n",
    "hidR2 = SigmoidLayer(8, name='hidden2')\n",
    "outR2 = LinearLayer(2, name='out2')\n",
    "    \n",
    "netF.addInputModule(inpF)\n",
    "netF.addModule(hidF)\n",
    "netF.addOutputModule(outF)\n",
    "\n",
    "\n",
    "netR.addInputModule(inpR)\n",
    "netR.addModule(hidR)\n",
    "netR.addOutputModule(outR)\n",
    "\n",
    "netR2.addInputModule(inpR2)\n",
    "netR2.addModule(hidR2)\n",
    "netR2.addOutputModule(outR2)\n",
    "\n",
    "#Feedforward connections\n",
    "\n",
    "netF.addConnection(FullConnection(inpF,hidF))\n",
    "netF.addConnection(FullConnection(hidF,outF))\n",
    "netF.sortModules()\n",
    "\n",
    "netR.addConnection(FullConnection(netR['in'],netR['hidden'], name='c1'))\n",
    "netR.addConnection(FullConnection(netR['hidden'],netR['out'], name='c2'))\n",
    "netR.sortModules()\n",
    "\n",
    "netR2.addConnection(FullConnection(netR2['in2'],netR2['hidden2'], name='c3'))\n",
    "netR2.addConnection(FullConnection(netR2['hidden2'],netR2['out2'], name='c4'))\n",
    "netR2.sortModules()\n",
    "\n",
    "#Recurrent connections\n",
    "\n",
    "netR.addRecurrentConnection(FullConnection(netR['in'],netR['in'], name='cR1'))\n",
    "netR.addRecurrentConnection(FullConnection(netR['hidden'],netR['hidden'], name='cR2'))\n",
    "netR.addRecurrentConnection(FullConnection(netR['out'],netR['out'], name='cR3'))\n",
    "netR.sortModules()\n",
    "\n",
    "netR2.addRecurrentConnection(FullConnection(netR2['in2'],netR2['in2'], name='cR4'))\n",
    "netR2.addRecurrentConnection(FullConnection(netR2['hidden2'],netR2['hidden2'], name='cR5'))\n",
    "netR2.addRecurrentConnection(FullConnection(netR2['out2'],netR2['out2'], name='cR6'))\n",
    "netR2.sortModules()"
   ]
  },
  {
   "cell_type": "markdown",
   "metadata": {},
   "source": [
    "### Setting the weights"
   ]
  },
  {
   "cell_type": "code",
   "execution_count": 19,
   "metadata": {
    "collapsed": true
   },
   "outputs": [],
   "source": [
    "def set_weights(n,wf,wr): ## n es la red, wf es el arreglo de pesos FF, wr es el arreglo de pesos RN \n",
    "    n.reset()\n",
    "    for mod in n.modules:\n",
    "        for conn in n.connections[mod]:\n",
    "            for cc in range(len(conn.params)):\n",
    "                conn.params[cc]=wf[cc]\n",
    "   \n",
    "    if hasattr(n, \"recurrentConns\"):\n",
    "        for rcon in n.recurrentConns:\n",
    "            for rc in range(len(rcon.params)):\n",
    "                rcon.params[rc]=wf[rc]\n",
    "     "
   ]
  },
  {
   "cell_type": "code",
   "execution_count": 20,
   "metadata": {
    "collapsed": false
   },
   "outputs": [],
   "source": [
    "WF=getcsv2('netF.csv')\n",
    "WR=getcsv2('netR.csv')\n",
    "WR2=getcsv2('netR2.csv')"
   ]
  },
  {
   "cell_type": "code",
   "execution_count": 21,
   "metadata": {
    "collapsed": false
   },
   "outputs": [],
   "source": [
    "FF_weights=WF.get_values()\n",
    "R_weights=WR.get_values()\n",
    "R2_weights=WR2.get_values()"
   ]
  },
  {
   "cell_type": "code",
   "execution_count": 22,
   "metadata": {
    "collapsed": false
   },
   "outputs": [],
   "source": [
    "set_weights(netF,FF_weights[0],FF_weights[1])\n",
    "set_weights(netR,R_weights[0],R_weights[1])\n",
    "set_weights(netR2,R2_weights[0],R2_weights[1])"
   ]
  },
  {
   "cell_type": "markdown",
   "metadata": {},
   "source": [
    "## Simulating on my birthday"
   ]
  },
  {
   "cell_type": "code",
   "execution_count": 1,
   "metadata": {
    "collapsed": false,
    "scrolled": true
   },
   "outputs": [
    {
     "ename": "NameError",
     "evalue": "name 'pd' is not defined",
     "output_type": "error",
     "traceback": [
      "\u001b[1;31m---------------------------------------------------------------------------\u001b[0m",
      "\u001b[1;31mNameError\u001b[0m                                 Traceback (most recent call last)",
      "\u001b[1;32m<ipython-input-1-eb1ca6a1fe7a>\u001b[0m in \u001b[0;36m<module>\u001b[1;34m()\u001b[0m\n\u001b[1;32m----> 1\u001b[1;33m \u001b[0mmm\u001b[0m \u001b[1;33m=\u001b[0m \u001b[0mpd\u001b[0m\u001b[1;33m.\u001b[0m\u001b[0mread_csv\u001b[0m\u001b[1;33m(\u001b[0m \u001b[1;34m'mm.csv'\u001b[0m\u001b[1;33m,\u001b[0m \u001b[0msep\u001b[0m\u001b[1;33m=\u001b[0m\u001b[1;34m','\u001b[0m\u001b[1;33m,\u001b[0m \u001b[0mnames\u001b[0m \u001b[1;33m=\u001b[0m \u001b[1;33m[\u001b[0m \u001b[0mx\u001b[0m\u001b[1;33m+\u001b[0m\u001b[1;36m1\u001b[0m \u001b[1;32mfor\u001b[0m \u001b[0mx\u001b[0m \u001b[1;32min\u001b[0m \u001b[0mrange\u001b[0m\u001b[1;33m(\u001b[0m\u001b[1;36m0\u001b[0m\u001b[1;33m,\u001b[0m\u001b[1;36m80\u001b[0m\u001b[1;33m)\u001b[0m\u001b[1;33m]\u001b[0m \u001b[1;33m)\u001b[0m\u001b[1;33m\u001b[0m\u001b[0m\n\u001b[0m\u001b[0;32m      2\u001b[0m \u001b[0mindexm\u001b[0m\u001b[1;33m=\u001b[0m\u001b[1;33m(\u001b[0m\u001b[1;33m[\u001b[0m\u001b[1;34m\"maximos\"\u001b[0m\u001b[1;33m,\u001b[0m\u001b[1;34m\"minimos\"\u001b[0m\u001b[1;33m]\u001b[0m\u001b[1;33m)\u001b[0m\u001b[1;33m\u001b[0m\u001b[0m\n\u001b[0;32m      3\u001b[0m \u001b[0mmm\u001b[0m\u001b[1;33m.\u001b[0m\u001b[0mcolumns\u001b[0m\u001b[1;33m=\u001b[0m\u001b[0mcols\u001b[0m\u001b[1;33m\u001b[0m\u001b[0m\n\u001b[0;32m      4\u001b[0m \u001b[0mmm\u001b[0m\u001b[1;33m.\u001b[0m\u001b[0mindex\u001b[0m\u001b[1;33m=\u001b[0m\u001b[0mindexm\u001b[0m\u001b[1;33m\u001b[0m\u001b[0m\n",
      "\u001b[1;31mNameError\u001b[0m: name 'pd' is not defined"
     ]
    }
   ],
   "source": [
    "mm = pd.read_csv( 'mm.csv', sep=',', names = [ x+1 for x in range(0,80)] )\n",
    "indexm=([\"maximos\",\"minimos\"])\n",
    "mm.columns=cols\n",
    "mm.index=indexm"
   ]
  },
  {
   "cell_type": "code",
   "execution_count": 24,
   "metadata": {
    "collapsed": false
   },
   "outputs": [
    {
     "data": {
      "text/html": [
       "<div>\n",
       "<table border=\"1\" class=\"dataframe\">\n",
       "  <thead>\n",
       "    <tr style=\"text-align: right;\">\n",
       "      <th></th>\n",
       "      <th>Record(1)</th>\n",
       "      <th>Temperature(1)</th>\n",
       "      <th>RelHum(1)</th>\n",
       "      <th>Ventilation(1)</th>\n",
       "      <th>Screening(1)</th>\n",
       "      <th>Heating(1)</th>\n",
       "      <th>Cooling(1)</th>\n",
       "      <th>LAI(1)</th>\n",
       "      <th>OutTemp(1)</th>\n",
       "      <th>OutRelHum(1)</th>\n",
       "      <th>...</th>\n",
       "      <th>Cooling(-3)</th>\n",
       "      <th>LAI(-3)</th>\n",
       "      <th>OutTemp(-3)</th>\n",
       "      <th>OutRelHum(-3)</th>\n",
       "      <th>OutRad(-3)</th>\n",
       "      <th>OutWindVel(-3)</th>\n",
       "      <th>HourAngle(-3)</th>\n",
       "      <th>Declination(-3)</th>\n",
       "      <th>Elevation(-3)</th>\n",
       "      <th>RadTheor(-3)</th>\n",
       "    </tr>\n",
       "  </thead>\n",
       "  <tbody>\n",
       "    <tr>\n",
       "      <th>maximos</th>\n",
       "      <td>NaN</td>\n",
       "      <td>35.849348</td>\n",
       "      <td>100.000000</td>\n",
       "      <td>100</td>\n",
       "      <td>100</td>\n",
       "      <td>282.71</td>\n",
       "      <td>84.35</td>\n",
       "      <td>2.37490</td>\n",
       "      <td>35.730715</td>\n",
       "      <td>99.553140</td>\n",
       "      <td>...</td>\n",
       "      <td>84.35</td>\n",
       "      <td>2.37490</td>\n",
       "      <td>35.730715</td>\n",
       "      <td>99.553140</td>\n",
       "      <td>1102.354796</td>\n",
       "      <td>19.06</td>\n",
       "      <td>1</td>\n",
       "      <td>23.450</td>\n",
       "      <td>60.990</td>\n",
       "      <td>1154.6</td>\n",
       "    </tr>\n",
       "    <tr>\n",
       "      <th>minimos</th>\n",
       "      <td>NaN</td>\n",
       "      <td>12.365276</td>\n",
       "      <td>29.823312</td>\n",
       "      <td>0</td>\n",
       "      <td>0</td>\n",
       "      <td>-98.98</td>\n",
       "      <td>-176.19</td>\n",
       "      <td>0.21708</td>\n",
       "      <td>-12.833602</td>\n",
       "      <td>20.989502</td>\n",
       "      <td>...</td>\n",
       "      <td>-176.19</td>\n",
       "      <td>0.21708</td>\n",
       "      <td>-12.833602</td>\n",
       "      <td>20.989502</td>\n",
       "      <td>-9.767520</td>\n",
       "      <td>0.00</td>\n",
       "      <td>-1</td>\n",
       "      <td>-18.628</td>\n",
       "      <td>-55.951</td>\n",
       "      <td>-1163.2</td>\n",
       "    </tr>\n",
       "  </tbody>\n",
       "</table>\n",
       "<p>2 rows × 80 columns</p>\n",
       "</div>"
      ],
      "text/plain": [
       "         Record(1)  Temperature(1)   RelHum(1)  Ventilation(1)  Screening(1)  \\\n",
       "maximos        NaN       35.849348  100.000000             100           100   \n",
       "minimos        NaN       12.365276   29.823312               0             0   \n",
       "\n",
       "         Heating(1)  Cooling(1)   LAI(1)  OutTemp(1)  OutRelHum(1)  \\\n",
       "maximos      282.71       84.35  2.37490   35.730715     99.553140   \n",
       "minimos      -98.98     -176.19  0.21708  -12.833602     20.989502   \n",
       "\n",
       "             ...       Cooling(-3)  LAI(-3)  OutTemp(-3)  OutRelHum(-3)  \\\n",
       "maximos      ...             84.35  2.37490    35.730715      99.553140   \n",
       "minimos      ...           -176.19  0.21708   -12.833602      20.989502   \n",
       "\n",
       "          OutRad(-3)  OutWindVel(-3)  HourAngle(-3)  Declination(-3)  \\\n",
       "maximos  1102.354796           19.06              1           23.450   \n",
       "minimos    -9.767520            0.00             -1          -18.628   \n",
       "\n",
       "         Elevation(-3)  RadTheor(-3)  \n",
       "maximos         60.990        1154.6  \n",
       "minimos        -55.951       -1163.2  \n",
       "\n",
       "[2 rows x 80 columns]"
      ]
     },
     "execution_count": 24,
     "metadata": {},
     "output_type": "execute_result"
    }
   ],
   "source": [
    "mm"
   ]
  },
  {
   "cell_type": "code",
   "execution_count": 25,
   "metadata": {
    "collapsed": true
   },
   "outputs": [],
   "source": [
    "def norm(x,maxi,mini):\n",
    "    Vnorm=(2*((x-mini)/(maxi-mini)))-1\n",
    "    return Vnorm  "
   ]
  },
  {
   "cell_type": "code",
   "execution_count": 26,
   "metadata": {
    "collapsed": true
   },
   "outputs": [],
   "source": [
    "def a_norm(y,maxi,mini):\n",
    "    a=y+1\n",
    "    b=maxi-mini\n",
    "    c=a*b\n",
    "    d=c/2\n",
    "    Anorm=d+mini\n",
    "    return Anorm"
   ]
  },
  {
   "cell_type": "code",
   "execution_count": 27,
   "metadata": {
    "collapsed": false
   },
   "outputs": [],
   "source": [
    "#Ntest_col = pd.DataFrame(columns=testcol.columns,index=testtime.index)\n",
    "#Ntest_ref = pd.DataFrame(columns=cols,index=testtime.index)\n",
    "\n",
    "Ntest_col = pd.DataFrame(columns=testcol.columns,index=testtime.index)\n",
    "Ntest_ref = pd.DataFrame(columns=testref.columns,index=testtime.index)"
   ]
  },
  {
   "cell_type": "code",
   "execution_count": 28,
   "metadata": {
    "collapsed": false
   },
   "outputs": [],
   "source": [
    "Ntest_col=pd.merge( testtime, Ntest_col, on = testtime['Record'] )\n",
    "Ntest_ref=pd.merge( testtime, Ntest_ref, on = testtime['Record'] )"
   ]
  },
  {
   "cell_type": "code",
   "execution_count": 29,
   "metadata": {
    "collapsed": false
   },
   "outputs": [],
   "source": [
    "\n",
    "for n in range(1,testcol.shape[1]):\n",
    "    ar=testcol[testcol.columns[n]]\n",
    "    Ntest_col[Ntest_col.columns[n+10]]=norm(ar,mm[mm.columns[n]][\"maximos\"],mm[mm.columns[n]][\"minimos\"])\n",
    "\n",
    "for n in range(1,testref.shape[1]):\n",
    "    ar=testref[testref.columns[n]]\n",
    "    Ntest_ref[Ntest_ref.columns[n+10]]=norm(ar,mm[mm.columns[n]][\"maximos\"],mm[mm.columns[n]][\"minimos\"])\n",
    "    "
   ]
  },
  {
   "cell_type": "code",
   "execution_count": 30,
   "metadata": {
    "collapsed": false,
    "scrolled": true
   },
   "outputs": [],
   "source": [
    "Ntest_col.index = Ntest_col['DateTime']\n",
    "Ntest_ref.index = Ntest_col['DateTime']"
   ]
  },
  {
   "cell_type": "code",
   "execution_count": 31,
   "metadata": {
    "collapsed": true
   },
   "outputs": [],
   "source": [
    "stest_col=np.array([Ntest_col['Temperature(-2)'][xtime],Ntest_col['RelHum(-2)'][xtime],\\\n",
    "            Ntest_col['Ventilation(-2)'][xtime],Ntest_col['Screening(-2)'][xtime], \\\n",
    "            Ntest_col['HourAngle(-2)'][xtime],Ntest_col['Declination(-2)'][xtime],\\\n",
    "            Ntest_col['Elevation(-2)'][xtime],Ntest_col['RadTheor(-2)'][xtime], \\\n",
    "            Ntest_col['Temperature(-1)'][xtime],Ntest_col['RelHum(-1)'][xtime],\\\n",
    "            Ntest_col['Ventilation(-1)'][xtime],Ntest_col['Screening(-1)'][xtime], \\\n",
    "            Ntest_col['HourAngle(-1)'][xtime],Ntest_col['Declination(-1)'][xtime],\\\n",
    "            Ntest_col['Elevation(-1)'][xtime],Ntest_col['RadTheor(-1)'][xtime], \\\n",
    "            Ntest_col['Temperature(0)'][xtime],Ntest_col['RelHum(0)'][xtime],\\\n",
    "            Ntest_col['Ventilation(0)'][xtime],Ntest_col['Screening(0)'][xtime], \\\n",
    "            Ntest_col['HourAngle(0)'][xtime],Ntest_col['Declination(0)'][xtime],\\\n",
    "            Ntest_col['Elevation(0)'][xtime],Ntest_col['RadTheor(0)'][xtime]]).T\n",
    "\n",
    "ttest_col=np.array([Ntest_col['Temperature(1)'][xtime],Ntest_col['RelHum(1)'][xtime]]).T     \n",
    "\n",
    "\n",
    "stest_ref=np.array([Ntest_ref['Temperature(-2)'][xtime],Ntest_ref['RelHum(-2)'][xtime],\\\n",
    "            Ntest_ref['Ventilation(-2)'][xtime],Ntest_ref['Screening(-2)'][xtime], \\\n",
    "            Ntest_ref['HourAngle(-2)'][xtime],Ntest_ref['Declination(-2)'][xtime],\\\n",
    "            Ntest_ref['Elevation(-2)'][xtime],Ntest_ref['RadTheor(-2)'][xtime], \\\n",
    "            Ntest_ref['Temperature(-1)'][xtime],Ntest_ref['RelHum(-1)'][xtime],\\\n",
    "            Ntest_ref['Ventilation(-1)'][xtime],Ntest_ref['Screening(-1)'][xtime], \\\n",
    "            Ntest_ref['HourAngle(-1)'][xtime],Ntest_ref['Declination(-1)'][xtime],\\\n",
    "            Ntest_ref['Elevation(-1)'][xtime],Ntest_ref['RadTheor(-1)'][xtime], \\\n",
    "            Ntest_ref['Temperature(0)'][xtime],Ntest_ref['RelHum(0)'][xtime],\\\n",
    "            Ntest_ref['Ventilation(0)'][xtime],Ntest_ref['Screening(0)'][xtime], \\\n",
    "            Ntest_ref['HourAngle(0)'][xtime],Ntest_ref['Declination(0)'][xtime],\\\n",
    "            Ntest_ref['Elevation(0)'][xtime],Ntest_ref['RadTheor(0)'][xtime]]).T\n",
    "\n",
    "ttest_ref=np.array([Ntest_ref['Temperature(1)'][xtime],Ntest_ref['RelHum(1)'][xtime]]).T     \n"
   ]
  },
  {
   "cell_type": "code",
   "execution_count": 32,
   "metadata": {
    "collapsed": true
   },
   "outputs": [],
   "source": [
    "stest_colR=np.array([Ntest_col['Temperature(0)'][xtime],Ntest_col['RelHum(0)'][xtime],\\\n",
    "            Ntest_col['Ventilation(0)'][xtime],Ntest_col['Screening(0)'][xtime], \\\n",
    "            Ntest_col['HourAngle(0)'][xtime],Ntest_col['Declination(0)'][xtime],\\\n",
    "            Ntest_col['Elevation(0)'][xtime],Ntest_col['RadTheor(0)'][xtime]]).T\n",
    "\n",
    "ttest_colR=np.array([Ntest_col['Temperature(1)'][xtime],Ntest_col['RelHum(1)'][xtime]]).T  \n",
    "\n",
    "\n",
    "stest_refR=np.array([Ntest_ref['Temperature(0)'][xtime],Ntest_ref['RelHum(0)'][xtime],\\\n",
    "            Ntest_ref['Ventilation(0)'][xtime],Ntest_ref['Screening(0)'][xtime], \\\n",
    "            Ntest_ref['HourAngle(0)'][xtime],Ntest_ref['Declination(0)'][xtime],\\\n",
    "            Ntest_ref['Elevation(0)'][xtime],Ntest_ref['RadTheor(0)'][xtime]]).T\n",
    "\n",
    "ttest_refR=np.array([Ntest_ref['Temperature(1)'][xtime],Ntest_ref['RelHum(1)'][xtime]]).T "
   ]
  },
  {
   "cell_type": "markdown",
   "metadata": {},
   "source": [
    "## Feedforward network"
   ]
  },
  {
   "cell_type": "code",
   "execution_count": 33,
   "metadata": {
    "collapsed": false
   },
   "outputs": [],
   "source": [
    "\n",
    "#_______________________________Collector Greenhouse__________________________\n",
    "\n",
    "sim_col=np.array([])\n",
    "for inps in (stest_col):\n",
    "    netF.reset()\n",
    "    sim_col=np.append(sim_col,netF.activate( inps ))\n",
    "\n",
    "sim_col=np.reshape(sim_col,[len(ttest_col),2])    \n",
    "\n",
    "#______________________________Reference Greenhouse___________________________\n",
    "\n",
    "sim_ref=np.array([])\n",
    "for inps in (stest_ref):\n",
    "    netF.reset()\n",
    "    sim_ref=np.append(sim_ref,netF.activate( inps ))\n",
    "    \n",
    "sim_ref=np.reshape(sim_ref,[len(ttest_ref),2])    \n"
   ]
  },
  {
   "cell_type": "code",
   "execution_count": 34,
   "metadata": {
    "collapsed": false
   },
   "outputs": [],
   "source": [
    "temperature_col=np.array([])\n",
    "temperature_ref=np.array([])\n",
    "\n",
    "RelHum_col=np.array([])\n",
    "RelHum_ref=np.array([])\n",
    "\n",
    "for n in range(0,sim_col.shape[0]):\n",
    "    sim_col[n][0]=a_norm(sim_col[n][0],mm['Temperature(1)'][\"maximos\"],mm['Temperature(1)'][\"minimos\"])\n",
    "    sim_ref[n][0]=a_norm(sim_ref[n][0],mm['Temperature(1)'][\"maximos\"],mm['Temperature(1)'][\"minimos\"])\n",
    "    temperature_col=np.append(temperature_col,sim_col[n][0])\n",
    "    temperature_ref=np.append(temperature_ref,sim_ref[n][0])\n",
    "    \n",
    "for n in range(0,sim_col.shape[0]):\n",
    "    sim_col[n][1]=a_norm(sim_col[n][1],mm['RelHum(1)'][\"maximos\"],mm['RelHum(1)'][\"minimos\"])\n",
    "    sim_ref[n][1]=a_norm(sim_ref[n][1],mm['RelHum(1)'][\"maximos\"],mm['RelHum(1)'][\"minimos\"])\n",
    "    RelHum_col=np.append(RelHum_col,sim_col[n][1])\n",
    "    RelHum_ref=np.append(RelHum_ref,sim_ref[n][1])\n",
    "    "
   ]
  },
  {
   "cell_type": "code",
   "execution_count": 35,
   "metadata": {
    "collapsed": false,
    "scrolled": true
   },
   "outputs": [
    {
     "data": {
      "image/png": "[encoded data removed]",
      "text/plain": [
       "<matplotlib.figure.Figure at 0x7f8c4ecb52e8>"
      ]
     },
     "metadata": {},
     "output_type": "display_data"
    }
   ],
   "source": [
    "fig1, axarr1 = plt.subplots(4, sharex=True, figsize=(16,8))\n",
    "\n",
    "# This is only to make clear how to index and select ranges:\n",
    "col_temp = collector['Temperature(1)'][xtime]\n",
    "ref_temp = reference['Temperature(1)'][xtime]\n",
    "\n",
    "col_rh = collector['RelHum(1)'][xtime]\n",
    "ref_rh = reference['RelHum(1)'][xtime]\n",
    "\n",
    "\n",
    "\n",
    "axarr1[0].plot( xtime, col_temp, color='red', linewidth=2.0, label='Real');\n",
    "axarr1[0].plot( xtime, temperature_col, color='orange', linewidth=2.0, label='Simulated');\n",
    "axarr1[0].set_title('Air Temperature Collector [°C]');\n",
    "axarr1[0].set_ylim([10,50]);\n",
    "axarr1[0].legend();\n",
    "\n",
    "axarr1[1].plot( xtime, col_rh, color='blue', linewidth=2.0, label='Real');\n",
    "axarr1[1].plot( xtime, RelHum_col, color='cyan', linewidth=2.0, label='Simulated');\n",
    "axarr1[1].set_title('Relative Humidity Collector[%]');\n",
    "axarr1[1].set_ylim([0,100]);\n",
    "axarr1[1].legend();\n",
    "\n",
    "axarr1[2].plot( xtime, temperature_ref, color='orange', linewidth=2.0, label='Simulated');\n",
    "axarr1[2].plot( xtime, ref_temp, color='red', linewidth=2.0, label='Real');\n",
    "axarr1[2].set_title('Air Temperature Reference[°C]');\n",
    "axarr1[2].set_ylim([10,50]);\n",
    "axarr1[2].legend();\n",
    "\n",
    "axarr1[3].plot( xtime, RelHum_ref, color='cyan', linewidth=2.0, label='Simulated');\n",
    "axarr1[3].plot( xtime, ref_rh, color='blue', linewidth=2.0, label='Real');\n",
    "axarr1[3].set_title('Relative Humidity Reference[%]');\n",
    "axarr1[3].set_ylim([0,100]);\n",
    "axarr1[3].legend();"
   ]
  },
  {
   "cell_type": "markdown",
   "metadata": {},
   "source": [
    "## Recurrent network 1"
   ]
  },
  {
   "cell_type": "code",
   "execution_count": 36,
   "metadata": {
    "collapsed": false
   },
   "outputs": [],
   "source": [
    "\n",
    "#_______________________________Collector Greenhouse__________________________\n",
    "\n",
    "sim_colR=np.array([])\n",
    "for inps in (stest_colR):\n",
    "    netR.reset()\n",
    "    sim_colR=np.append(sim_colR,netR.activate( inps ))\n",
    "\n",
    "sim_colR=np.reshape(sim_colR,[len(ttest_colR),2])    \n",
    "\n",
    "#______________________________Reference Greenhouse___________________________\n",
    "\n",
    "sim_refR=np.array([])\n",
    "for inps in (stest_refR):\n",
    "    netR.reset()\n",
    "    sim_refR=np.append(sim_refR,netR.activate( inps ))\n",
    "    \n",
    "sim_refR=np.reshape(sim_refR,[len(ttest_refR),2])    \n"
   ]
  },
  {
   "cell_type": "code",
   "execution_count": 37,
   "metadata": {
    "collapsed": false
   },
   "outputs": [],
   "source": [
    "temperature_colR=np.array([])\n",
    "temperature_refR=np.array([])\n",
    "\n",
    "RelHum_colR=np.array([])\n",
    "RelHum_refR=np.array([])\n",
    "\n",
    "for n in range(0,sim_colR.shape[0]):\n",
    "    sim_colR[n][0]=a_norm(sim_colR[n][0],mm['Temperature(1)'][\"maximos\"],mm['Temperature(1)'][\"minimos\"])\n",
    "    sim_refR[n][0]=a_norm(sim_refR[n][0],mm['Temperature(1)'][\"maximos\"],mm['Temperature(1)'][\"minimos\"])\n",
    "    temperature_colR=np.append(temperature_colR,sim_colR[n][0])\n",
    "    temperature_refR=np.append(temperature_refR,sim_refR[n][0])\n",
    "    \n",
    "for n in range(0,sim_colR.shape[0]):\n",
    "    sim_colR[n][1]=a_norm(sim_colR[n][1],mm['RelHum(1)'][\"maximos\"],mm['RelHum(1)'][\"minimos\"])\n",
    "    sim_refR[n][1]=a_norm(sim_refR[n][1],mm['RelHum(1)'][\"maximos\"],mm['RelHum(1)'][\"minimos\"])\n",
    "    RelHum_colR=np.append(RelHum_colR,sim_colR[n][1])\n",
    "    RelHum_refR=np.append(RelHum_refR,sim_refR[n][1])"
   ]
  },
  {
   "cell_type": "code",
   "execution_count": 38,
   "metadata": {
    "collapsed": false
   },
   "outputs": [
    {
     "data": {
      "image/png": "[encoded data removed]",
      "text/plain": [
       "<matplotlib.figure.Figure at 0x7f8c4ec9cb70>"
      ]
     },
     "metadata": {},
     "output_type": "display_data"
    }
   ],
   "source": [
    "fig2, axarr2 = plt.subplots(4, sharex=True, figsize=(16,8))\n",
    "\n",
    "# This is only to make clear how to index and select ranges:\n",
    "col_temp = collector['Temperature(1)'][xtime]\n",
    "ref_temp = reference['Temperature(1)'][xtime]\n",
    "\n",
    "col_rh = collector['RelHum(1)'][xtime]\n",
    "ref_rh = reference['RelHum(1)'][xtime]\n",
    "\n",
    "\n",
    "\n",
    "axarr2[0].plot( xtime, col_temp, color='red', linewidth=2.0, label='Real');\n",
    "axarr2[0].plot( xtime, temperature_colR, color='orange', linewidth=2.0, label='Simulated');\n",
    "axarr2[0].set_title('Air Temperature Collector [°C]');\n",
    "axarr2[0].set_ylim([10,30]);\n",
    "axarr2[0].legend();\n",
    "\n",
    "axarr2[1].plot( xtime, col_rh, color='blue', linewidth=2.0, label='Real');\n",
    "axarr2[1].plot( xtime, RelHum_colR, color='cyan', linewidth=2.0, label='Simulated');\n",
    "axarr2[1].set_title('Relative Humidity Collector[%]');\n",
    "axarr2[1].set_ylim([0,100]);\n",
    "axarr2[1].legend();\n",
    "\n",
    "axarr2[2].plot( xtime, temperature_refR, color='orange', linewidth=2.0, label='Simulated');\n",
    "axarr2[2].plot( xtime, ref_temp, color='red', linewidth=2.0, label='Real');\n",
    "axarr2[2].set_title('Air Temperature Reference[°C]');\n",
    "axarr2[2].set_ylim([10,30]);\n",
    "axarr2[2].legend();\n",
    "\n",
    "axarr2[3].plot( xtime, RelHum_refR, color='cyan', linewidth=2.0, label='Simulated');\n",
    "axarr2[3].plot( xtime, ref_rh, color='blue', linewidth=2.0, label='Real');\n",
    "axarr2[3].set_title('Relative Humidity Reference[%]');\n",
    "axarr2[3].set_ylim([0,100]);\n",
    "axarr2[3].legend();"
   ]
  },
  {
   "cell_type": "markdown",
   "metadata": {},
   "source": [
    "## Recurrent Network 2"
   ]
  },
  {
   "cell_type": "code",
   "execution_count": 39,
   "metadata": {
    "collapsed": true
   },
   "outputs": [],
   "source": [
    "def mse(predictions, targets):\n",
    "    return ((predictions - targets) ** 2).mean()"
   ]
  },
  {
   "cell_type": "code",
   "execution_count": 41,
   "metadata": {
    "collapsed": false
   },
   "outputs": [],
   "source": [
    "\n",
    "#_______________________________Collector Greenhouse__________________________\n",
    "\n",
    "sim_colR2=np.array([])\n",
    "for inps in (stest_colR):\n",
    "    netR2.reset()\n",
    "    sim_colR2=np.append(sim_colR2,netR2.activate( inps ))\n",
    "\n",
    "sim_colR2=np.reshape(sim_colR2,[len(ttest_colR),2])    \n",
    "    \n",
    "errorTestR2_col=mse(sim_colR2,ttest_refR)\n",
    "\n",
    "temperature_errorTestR2_col=mse(sim_colR2[0],ttest_refR[0])\n",
    "humidity_errorTestR2_col=mse(sim_colR2[1],ttest_refR[1])\n",
    "\n",
    "\n",
    "#______________________________Reference Greenhouse___________________________\n",
    "\n",
    "sim_refR2=np.array([])\n",
    "for inps in (stest_refR):\n",
    "    netR2.reset()\n",
    "    sim_refR2=np.append(sim_refR2,netR2.activate( inps ))\n",
    "\n",
    "sim_refR2=np.reshape(sim_refR2,[len(ttest_refR),2])    \n",
    "\n",
    "errorTestR2_ref=mse(sim_refR2,ttest_refR)\n",
    "\n",
    "temperature_errorTestR2_ref=mse(sim_refR2[0],ttest_refR[0])\n",
    "humidity_errorTestR2_ref=mse(sim_refR2[1],ttest_refR[1])\n",
    "    \n",
    "\n"
   ]
  },
  {
   "cell_type": "code",
   "execution_count": 44,
   "metadata": {
    "collapsed": false
   },
   "outputs": [
    {
     "name": "stdout",
     "output_type": "stream",
     "text": [
      "0.263781391704 0.264822213879\n",
      "0.32697996189 0.364408233128\n",
      "0.325439889322 0.303624266618\n"
     ]
    }
   ],
   "source": [
    "print(errorTestR2_col,errorTestR2_ref)\n",
    "print(temperature_errorTestR2_col,temperature_errorTestR2_ref)\n",
    "print(humidity_errorTestR2_col,humidity_errorTestR2_ref)"
   ]
  },
  {
   "cell_type": "code",
   "execution_count": null,
   "metadata": {
    "collapsed": false
   },
   "outputs": [],
   "source": [
    "temperature_colR2=np.array([])\n",
    "temperature_refR2=np.array([])\n",
    "\n",
    "RelHum_colR2=np.array([])\n",
    "RelHum_refR2=np.array([])\n",
    "\n",
    "for n in range(0,sim_colR2.shape[0]):\n",
    "    sim_colR2[n][0]=a_norm(sim_colR2[n][0],mm['Temperature(1)'][\"maximos\"],mm['Temperature(1)'][\"minimos\"])\n",
    "    sim_refR2[n][0]=a_norm(sim_refR2[n][0],mm['Temperature(1)'][\"maximos\"],mm['Temperature(1)'][\"minimos\"])\n",
    "    temperature_colR2=np.append(temperature_colR2,sim_colR2[n][0])\n",
    "    temperature_refR2=np.append(temperature_refR2,sim_refR2[n][0])\n",
    "    \n",
    "for n in range(0,sim_colR.shape[0]):\n",
    "    sim_colR2[n][1]=a_norm(sim_colR2[n][1],mm['RelHum(1)'][\"maximos\"],mm['RelHum(1)'][\"minimos\"])\n",
    "    sim_refR2[n][1]=a_norm(sim_refR2[n][1],mm['RelHum(1)'][\"maximos\"],mm['RelHum(1)'][\"minimos\"])\n",
    "    RelHum_colR2=np.append(RelHum_colR2,sim_colR2[n][1])\n",
    "    RelHum_refR2=np.append(RelHum_refR2,sim_refR2[n][1])"
   ]
  },
  {
   "cell_type": "code",
   "execution_count": null,
   "metadata": {
    "collapsed": false
   },
   "outputs": [],
   "source": [
    "fig3, axarr3 = plt.subplots(4, sharex=True, figsize=(16,8))\n",
    "\n",
    "# This is only to make clear how to index and select ranges:\n",
    "col_temp = collector['Temperature(1)'][xtime]\n",
    "ref_temp = reference['Temperature(1)'][xtime]\n",
    "\n",
    "col_rh = collector['RelHum(1)'][xtime]\n",
    "ref_rh = reference['RelHum(1)'][xtime]\n",
    "\n",
    "\n",
    "\n",
    "axarr3[0].plot( xtime, col_temp, color='red', linewidth=2.0, label='Real');\n",
    "axarr3[0].plot( xtime, temperature_colR2, color='orange', linewidth=2.0, label='Simulated');\n",
    "axarr3[0].set_title('Air Temperature Collector [°C]');\n",
    "axarr3[0].set_ylim([10,30]);\n",
    "axarr3[0].legend();\n",
    "\n",
    "axarr3[1].plot( xtime, col_rh, color='blue', linewidth=2.0, label='Real');\n",
    "axarr3[1].plot( xtime, RelHum_colR2, color='cyan', linewidth=2.0, label='Simulated');\n",
    "axarr3[1].set_title('Relative Humidity Collector[%]');\n",
    "axarr3[1].set_ylim([0,100]);\n",
    "axarr3[1].legend();\n",
    "\n",
    "axarr3[2].plot( xtime, temperature_refR2, color='orange', linewidth=2.0, label='Simulated');\n",
    "axarr3[2].plot( xtime, ref_temp, color='red', linewidth=2.0, label='Real');\n",
    "axarr3[2].set_title('Air Temperature Reference[°C]');\n",
    "axarr3[2].set_ylim([10,30]);\n",
    "axarr3[2].legend();\n",
    "\n",
    "axarr3[3].plot( xtime, RelHum_refR2, color='blue', linewidth=2.0, label='Simulated');\n",
    "axarr3[3].plot( xtime, ref_rh, color='cyan', linewidth=2.0, label='Real');\n",
    "axarr3[3].set_title('Relative Humidity Reference[%]');\n",
    "axarr3[3].set_ylim([0,100]);\n",
    "axarr3[3].legend();"
   ]
  },
  {
   "cell_type": "markdown",
   "metadata": {
    "collapsed": true
   },
   "source": [
    "## The three networks together"
   ]
  },
  {
   "cell_type": "markdown",
   "metadata": {},
   "source": [
    "### Collector"
   ]
  },
  {
   "cell_type": "code",
   "execution_count": null,
   "metadata": {
    "collapsed": false
   },
   "outputs": [],
   "source": [
    "fig4, axarr4 = plt.subplots(2, sharex=True, figsize=(16,8))\n",
    "\n",
    "# This is only to make clear how to index and select ranges:\n",
    "col_temp = collector['Temperature(1)'][xtime]\n",
    "\n",
    "col_rh = collector['RelHum(1)'][xtime]\n",
    "col_vent = collector['Ventilation(1)'][xtime]\n",
    "\n",
    "\n",
    "\n",
    "\n",
    "axarr4[0].plot( xtime, col_temp, color='black', linewidth=2.0, label='Real');\n",
    "axarr4[0].plot( xtime, temperature_col, color='yellow', linewidth=2.0, label='Feedforward');\n",
    "axarr4[0].plot( xtime, temperature_colR, color='orange', linewidth=2.0, label='Recurrent 1');\n",
    "axarr4[0].plot( xtime, temperature_colR2, color='red', linewidth=2.0, label='Recurrent 2');\n",
    "axarr4[0].fill_between( np.array(xtime), y1=col_vent, y2=0, color='#FF9F80', alpha=0.5, label='Ventilation Opening' );\n",
    "axarr4[0].set_title('Air Temperature Collector [°C]');\n",
    "axarr4[0].set_ylim([0,37]);\n",
    "axarr4[0].legend();\n",
    "\n",
    "axarr4[1].plot( xtime, col_rh, color='black', linewidth=2.0, label='Real');\n",
    "axarr4[1].plot( xtime, RelHum_col, color='#80E0FF', linewidth=2.0, label='Feedforward');\n",
    "axarr4[1].plot( xtime, RelHum_colR, color='#3090C7', linewidth=2.0, label='Recurrent 1');\n",
    "axarr4[1].plot( xtime, RelHum_colR2, color='#0041C2', linewidth=2.0, label='Recurrent 2');\n",
    "axarr4[1].fill_between( np.array(xtime), y1=col_vent, y2=0, color='#FF9F80', alpha=0.5, label='Ventilation Opening' );\n",
    "axarr4[1].set_title('Relative Humidity Collector[%]');\n",
    "axarr4[1].set_ylim([0,150]);\n",
    "axarr4[1].legend();"
   ]
  },
  {
   "cell_type": "code",
   "execution_count": null,
   "metadata": {
    "collapsed": false
   },
   "outputs": [],
   "source": [
    "fig5, axarr5 = plt.subplots(2, sharex=True, figsize=(16,8))\n",
    "\n",
    "# This is only to make clear how to index and select ranges:\n",
    "ref_temp = reference['Temperature(1)'][xtime]\n",
    "\n",
    "ref_rh = reference['RelHum(1)'][xtime]\n",
    "\n",
    "ref_vent = reference['Ventilation(1)'][xtime]\n",
    "\n",
    "\n",
    "\n",
    "axarr5[0].plot( xtime, ref_temp, color='black', linewidth=2.0, label='Real');\n",
    "axarr5[0].plot( xtime, temperature_ref, color='yellow', linewidth=2.0, label='Feedforward');\n",
    "axarr5[0].plot( xtime, temperature_refR, color='orange', linewidth=2.0, label='Recurrent 1');\n",
    "axarr5[0].plot( xtime, temperature_refR2, color='red', linewidth=2.0, label='Recurrent 2');\n",
    "axarr5[0].fill_between( np.array(xtime), y1=col_vent, y2=0, color='#FF9F80', alpha=0.5, label='Ventilation Opening' );\n",
    "axarr5[0].set_title('Air Temperature Collector [°C]');\n",
    "axarr5[0].set_ylim([0,37]);\n",
    "axarr5[0].legend();\n",
    "\n",
    "axarr5[1].plot( xtime, ref_rh, color='black', linewidth=2.0, label='Real');\n",
    "axarr5[1].plot( xtime, RelHum_ref, color='cyan', linewidth=2.0, label='Feedforward');\n",
    "axarr5[1].plot( xtime, RelHum_refR, color='blue', linewidth=2.0, label='Recurrent 1');\n",
    "axarr5[1].plot( xtime, RelHum_refR2, color='#0000A0', linewidth=2.0, label='Recurrent 2');\n",
    "axarr5[1].fill_between( np.array(xtime), y1=col_vent, y2=0, color='#FF9F80', alpha=0.5, label='Ventilation Opening' );\n",
    "axarr5[1].set_title('Relative Humidity Collector[%]');\n",
    "axarr5[1].set_ylim([0,150]);\n",
    "axarr5[1].legend();"
   ]
  },
  {
   "cell_type": "code",
   "execution_count": null,
   "metadata": {
    "collapsed": true
   },
   "outputs": [],
   "source": []
  },
  {
   "cell_type": "code",
   "execution_count": null,
   "metadata": {
    "collapsed": true
   },
   "outputs": [],
   "source": []
  },
  {
   "cell_type": "code",
   "execution_count": null,
   "metadata": {
    "collapsed": true
   },
   "outputs": [],
   "source": []
  }
 ],
 "metadata": {
  "kernelspec": {
   "display_name": "Python 3",
   "language": "python",
   "name": "python3"
  },
  "language_info": {
   "codemirror_mode": {
    "name": "ipython",
    "version": 3
   },
   "file_extension": ".py",
   "mimetype": "text/x-python",
   "name": "python",
   "nbconvert_exporter": "python",
   "pygments_lexer": "ipython3",
   "version": "3.5.1"
  }
 },
 "nbformat": 4,
 "nbformat_minor": 0
}
